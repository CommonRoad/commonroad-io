{
 "cells": [
  {
   "cell_type": "markdown",
   "metadata": {},
   "source": [
    "# Tutorial 3: CommonRoad-io for trailer-truck model"
   ]
  },
  {
   "cell_type": "markdown",
   "metadata": {},
   "source": [
    "This tutorial is similar to Tutorial 1, where we demonstrated how to load, visualize and modify a CommonRoad scenario. Here, we show that CommonRoad is also capable of modeling trailer-truck models using a scenario from a loading bay and a pre-stored trajectory, which has been computed with a parking planner for trucks. \n",
    "\n",
    "For details on how the vehicle dynamics of a truck are modelled in CommonRoad, please check out the [Vehicle Models Documentation](https://gitlab.lrz.de/tum-cps/commonroad-vehicle-models/-/blob/master/vehicleModels_commonRoad.pdf)."
   ]
  },
  {
   "cell_type": "markdown",
   "metadata": {
    "collapsed": true
   },
   "source": [
    "## 1. Read Loading Bay Scenario\n",
    "\n",
    "We begin by loading the scenario using the CommonRoadFielReader()."
   ]
  },
  {
   "cell_type": "code",
   "execution_count": null,
   "metadata": {},
   "outputs": [],
   "source": [
    "%matplotlib inline\n",
    "import matplotlib.pyplot as plt\n",
    "import numpy as np\n",
    "from IPython import display\n",
    "\n",
    "# import functions to read xml file and visualize commonroad objects\n",
    "from commonroad.common.file_reader import CommonRoadFileReader\n",
    "from commonroad.visualization.mp_renderer import MPRenderer"
   ]
  },
  {
   "cell_type": "code",
   "execution_count": null,
   "metadata": {},
   "outputs": [],
   "source": [
    "# generate path of the file to be opened\n",
    "file_path = \"ZAM_Loading_Bay-1_1_T.xml\"\n",
    "\n",
    "# read in the scenario and planning problem set\n",
    "scenario, planning_problem_set = CommonRoadFileReader(file_path).open()\n",
    "\n",
    "# plot the scenario\n",
    "rnd = MPRenderer(figsize=(25, 10), plot_limits=[0, 150, 0, 600])\n",
    "display.clear_output(wait=True)\n",
    "# plot the scenario at different time step\n",
    "scenario.draw(rnd)\n",
    "# plot the planning problem set\n",
    "rnd.render()\n",
    "plt.show()"
   ]
  },
  {
   "cell_type": "markdown",
   "metadata": {},
   "source": [
    "## 2. Load pre-stored trajectory and add truck as dynamic obstacle\n",
    "Load the prestored trajectory"
   ]
  },
  {
   "cell_type": "code",
   "execution_count": null,
   "metadata": {},
   "outputs": [],
   "source": [
    "# modify the default parameters of np.load\n",
    "np.load.__defaults__ = (None, True, True, \"ASCII\")\n",
    "states = list(np.load(\"trajectory.npy\"))\n",
    "# restore the default parameters of np.load\n",
    "np.load.__defaults__ = (None, False, True, \"ASCII\")"
   ]
  },
  {
   "cell_type": "markdown",
   "metadata": {},
   "source": [
    "Create DynamicObstacle and add to scenario"
   ]
  },
  {
   "cell_type": "code",
   "execution_count": null,
   "metadata": {},
   "outputs": [],
   "source": [
    "# import necessary classes from different modules\n",
    "from commonroad.geometry.shape import ShapeGroup, Rectangle\n",
    "from commonroad.scenario.obstacle import DynamicObstacle, ObstacleType\n",
    "from commonroad.scenario.trajectory import Trajectory\n",
    "from commonroad.scenario.state import InitialState\n",
    "from commonroad.prediction.prediction import TrajectoryPrediction\n",
    "\n",
    "\n",
    "# create the trajectory of the obstacle, starting at time step 1\n",
    "dynamic_obstacle_trajectory = Trajectory(0, states)\n",
    "\n",
    "dynamic_obstacle_initial_state = dynamic_obstacle_trajectory.state_list[0].convert_state_to_state(InitialState())\n",
    "\n",
    "# create the prediction using the trajectory and the shape of the obstacle\n",
    "dynamic_obstacle_shape = ShapeGroup([Rectangle(5.875, 2.50), Rectangle(12.74, 2.46)])\n",
    "dynamic_obstacle_prediction = TrajectoryPrediction(\n",
    "    dynamic_obstacle_trajectory, dynamic_obstacle_shape, wheelbase_lengths=[3.6, 8.755]\n",
    ")\n",
    "\n",
    "# generate the dynamic obstacle according to the specification\n",
    "dynamic_obstacle_id = scenario.generate_object_id()\n",
    "dynamic_obstacle_type = ObstacleType.TRUCK\n",
    "dynamic_obstacle = DynamicObstacle(\n",
    "    dynamic_obstacle_id,\n",
    "    dynamic_obstacle_type,\n",
    "    dynamic_obstacle_shape,\n",
    "    dynamic_obstacle_initial_state,\n",
    "    dynamic_obstacle_prediction,\n",
    ")\n",
    "\n",
    "# add dynamic obstacle to the scenario\n",
    "scenario.add_objects(dynamic_obstacle)"
   ]
  },
  {
   "cell_type": "markdown",
   "metadata": {},
   "source": [
    "## 3. Plot the scenario"
   ]
  },
  {
   "cell_type": "code",
   "execution_count": null,
   "metadata": {
    "scrolled": false
   },
   "outputs": [],
   "source": [
    "# plot the scenario\n",
    "for i in range(0, int(len(dynamic_obstacle_trajectory.state_list) / 10)):\n",
    "    rnd = MPRenderer(figsize=(25, 10), plot_limits=[-30, 50, -30, 30], focus_obstacle=dynamic_obstacle)\n",
    "    # display.clear_output(wait=True)\n",
    "    # plot the scenario at different time step\n",
    "    rnd.draw_params.time_begin = i * 10\n",
    "    scenario.draw(rnd)\n",
    "    # plot the planning problem set\n",
    "    rnd.render()\n",
    "    plt.show()"
   ]
  },
  {
   "cell_type": "code",
   "execution_count": null,
   "metadata": {},
   "outputs": [],
   "source": []
  }
 ],
 "metadata": {
  "kernelspec": {
   "display_name": "Python 3",
   "language": "python",
   "name": "python3"
  },
  "language_info": {
   "codemirror_mode": {
    "name": "ipython",
    "version": 3
   },
   "file_extension": ".py",
   "mimetype": "text/x-python",
   "name": "python",
   "nbconvert_exporter": "python",
   "pygments_lexer": "ipython3",
   "version": "3.7.9"
  },
  "vscode": {
   "interpreter": {
    "hash": "42d589d4f84da90f3415bbf9422a308cbb496c4c3acae397118848967eaab5fb"
   }
  }
 },
 "nbformat": 4,
 "nbformat_minor": 1
}
