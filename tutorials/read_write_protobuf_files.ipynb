{
 "cells": [
  {
   "cell_type": "code",
   "execution_count": 1,
   "metadata": {
    "collapsed": true,
    "ExecuteTime": {
     "end_time": "2023-12-27T17:42:39.733363774Z",
     "start_time": "2023-12-27T17:42:39.098114997Z"
    }
   },
   "outputs": [
    {
     "name": "stderr",
     "output_type": "stream",
     "text": [
      "Unknown country: Default traffic sign IDs are used.\n",
      "Unknown country: Default traffic sign IDs are used.\n",
      "Unknown country: Default traffic sign IDs are used.\n",
      "Unknown country: Default traffic sign IDs are used.\n",
      "Unknown country: Default traffic sign IDs are used.\n",
      "Unknown country: Default traffic sign IDs are used.\n",
      "Unknown country: Default traffic sign IDs are used.\n",
      "Unknown country: Default traffic sign IDs are used.\n",
      "Unknown country: Default traffic sign IDs are used.\n",
      "Unknown country: Default traffic sign IDs are used.\n",
      "Unknown country: Default traffic sign IDs are used.\n",
      "Unknown country: Default traffic sign IDs are used.\n",
      "Unknown country: Default traffic sign IDs are used.\n",
      "Unknown country: Default traffic sign IDs are used.\n",
      "Unknown country: Default traffic sign IDs are used.\n",
      "Unknown country: Default traffic sign IDs are used.\n",
      "Unknown country: Default traffic sign IDs are used.\n",
      "Unknown country: Default traffic sign IDs are used.\n",
      "Unknown country: Default traffic sign IDs are used.\n",
      "Unknown country: Default traffic sign IDs are used.\n",
      "Unknown country: Default traffic sign IDs are used.\n",
      "Unknown country: Default traffic sign IDs are used.\n",
      "Unknown country: Default traffic sign IDs are used.\n",
      "Unknown country: Default traffic sign IDs are used.\n",
      "Unknown country: Default traffic sign IDs are used.\n",
      "Unknown country: Default traffic sign IDs are used.\n",
      "Unknown country: Default traffic sign IDs are used.\n",
      "Unknown country: Default traffic sign IDs are used.\n",
      "Unknown country: Default traffic sign IDs are used.\n",
      "Unknown country: Default traffic sign IDs are used.\n",
      "Unknown country: Default traffic sign IDs are used.\n",
      "Unknown country: Default traffic sign IDs are used.\n",
      "Unknown country: Default traffic sign IDs are used.\n",
      "Unknown country: Default traffic sign IDs are used.\n",
      "Unknown country: Default traffic sign IDs are used.\n",
      "Unknown country: Default traffic sign IDs are used.\n",
      "Unknown country: Default traffic sign IDs are used.\n",
      "Unknown country: Default traffic sign IDs are used.\n",
      "Unknown country: Default traffic sign IDs are used.\n",
      "Unknown country: Default traffic sign IDs are used.\n",
      "Unknown country: Default traffic sign IDs are used.\n",
      "Unknown country: Default traffic sign IDs are used.\n",
      "Unknown country: Default traffic sign IDs are used.\n",
      "Unknown country: Default traffic sign IDs are used.\n",
      "Unknown country: Default traffic sign IDs are used.\n",
      "Unknown country: Default traffic sign IDs are used.\n",
      "Unknown country: Default traffic sign IDs are used.\n",
      "Unknown country: Default traffic sign IDs are used.\n",
      "Unknown country: Default traffic sign IDs are used.\n",
      "Unknown country: Default traffic sign IDs are used.\n",
      "Unknown country: Default traffic sign IDs are used.\n",
      "Unknown country: Default traffic sign IDs are used.\n",
      "Unknown country: Default traffic sign IDs are used.\n",
      "Unknown country: Default traffic sign IDs are used.\n",
      "Unknown country: Default traffic sign IDs are used.\n",
      "Unknown country: Default traffic sign IDs are used.\n",
      "Unknown country: Default traffic sign IDs are used.\n",
      "Unknown country: Default traffic sign IDs are used.\n",
      "Unknown country: Default traffic sign IDs are used.\n",
      "Unknown country: Default traffic sign IDs are used.\n",
      "Unknown country: Default traffic sign IDs are used.\n",
      "Unknown country: Default traffic sign IDs are used.\n",
      "Unknown country: Default traffic sign IDs are used.\n",
      "Unknown country: Default traffic sign IDs are used.\n",
      "Unknown country: Default traffic sign IDs are used.\n",
      "Unknown country: Default traffic sign IDs are used.\n",
      "Unknown country: Default traffic sign IDs are used.\n",
      "Unknown country: Default traffic sign IDs are used.\n",
      "Unknown country: Default traffic sign IDs are used.\n",
      "Unknown country: Default traffic sign IDs are used.\n",
      "Unknown country: Default traffic sign IDs are used.\n",
      "Unknown country: Default traffic sign IDs are used.\n",
      "Unknown country: Default traffic sign IDs are used.\n",
      "Unknown country: Default traffic sign IDs are used.\n",
      "Unknown country: Default traffic sign IDs are used.\n",
      "Unknown country: Default traffic sign IDs are used.\n",
      "Unknown country: Default traffic sign IDs are used.\n",
      "Unknown country: Default traffic sign IDs are used.\n",
      "Unknown country: Default traffic sign IDs are used.\n",
      "Unknown country: Default traffic sign IDs are used.\n",
      "Unknown country: Default traffic sign IDs are used.\n",
      "Unknown country: Default traffic sign IDs are used.\n",
      "Unknown country: Default traffic sign IDs are used.\n",
      "Unknown country: Default traffic sign IDs are used.\n",
      "Unknown country: Default traffic sign IDs are used.\n",
      "Unknown country: Default traffic sign IDs are used.\n",
      "Unknown country: Default traffic sign IDs are used.\n",
      "Unknown country: Default traffic sign IDs are used.\n",
      "Unknown country: Default traffic sign IDs are used.\n",
      "Unknown country: Default traffic sign IDs are used.\n",
      "Unknown country: Default traffic sign IDs are used.\n"
     ]
    },
    {
     "name": "stdout",
     "output_type": "stream",
     "text": [
      "Replace file ./protobuf_files/USA_Lanker-1.pb\n",
      "Replace file ./protobuf_files/USA_Lanker-1_1_T-1.pb\n",
      "Replace file ./protobuf_files/USA_Lanker-1_1_T-1-SC.pb\n"
     ]
    }
   ],
   "source": [
    "from commonroad.common.writer.file_writer_interface import OverwriteExistingFile\n",
    "from commonroad.common.util import FileFormat\n",
    "from commonroad.common.file_writer import CommonRoadFileWriter\n",
    "from commonroad.common.file_reader import CommonRoadFileReader\n",
    "\n",
    "#  Reading an xml file and writing it in a protobuf format\n",
    "\n",
    "#  File path of an xml file\n",
    "file_path_arg = \"USA_Lanker-1_1_T-1.xml\"\n",
    "\n",
    "# Reading the scenario and the problem set with the CommonRoad xml file reader\n",
    "scenario_arg, planning_problem_set_arg = CommonRoadFileReader(file_path_arg).open()\n",
    "\n",
    "# Creating a CommonRoad protobuf file writer\n",
    "fw_arg = CommonRoadFileWriter(scenario_arg, planning_problem_set_arg, file_format=FileFormat.PROTOBUF)\n",
    "\n",
    "# Declaring the path and the names of the new protobuf files\n",
    "filename_arg_map = \"./protobuf_files/USA_Lanker-1.pb\"\n",
    "filename_arg_dynamic = \"./protobuf_files/USA_Lanker-1_1_T-1.pb\"\n",
    "filename_arg_scenario = \"./protobuf_files/USA_Lanker-1_1_T-1-SC.pb\"\n",
    "\n",
    "# Writing protobuf files. In this example, they are being written in the 'protobuf_files' folder.\n",
    "fw_arg.write_map_to_file(filename_arg_map, overwrite_existing_file=OverwriteExistingFile.ALWAYS)\n",
    "fw_arg.write_dynamic_to_file(filename_arg_dynamic, overwrite_existing_file=OverwriteExistingFile.ALWAYS)\n",
    "fw_arg.write_scenario_to_file(filename_arg_scenario, overwrite_existing_file=OverwriteExistingFile.ALWAYS)"
   ]
  },
  {
   "cell_type": "code",
   "execution_count": 2,
   "outputs": [],
   "source": [
    "from commonroad.common.file_reader import (\n",
    "    CommonRoadMapFileReader,\n",
    "    CommonRoadScenarioFileReader,\n",
    "    CommonRoadDynamicFileReader,\n",
    ")\n",
    "\n",
    "#  Reading protobuf files\n",
    "\n",
    "#  File paths of map, dynamic and scenario protobuf files\n",
    "pb_map_file_path = \"./protobuf_files/USA_Lanker-1.pb\"\n",
    "pb_dynamic_file_path = \"./protobuf_files/USA_Lanker-1_1_T-1.pb\"\n",
    "pb_scenario_file_path = \"./protobuf_files/USA_Lanker-1_1_T-1-SC.pb\"\n",
    "\n",
    "#  Reading a protobuf map file. Map_pb is read as a CommonRoad lanelet network.\n",
    "map_pb = CommonRoadMapFileReader(pb_map_file_path, FileFormat.PROTOBUF).open()\n",
    "\n",
    "#  Reading a protobuf scenario file\n",
    "scenario_pb = CommonRoadScenarioFileReader(pb_scenario_file_path, FileFormat.PROTOBUF).open()\n",
    "\n",
    "#  Reading a protobuf dynamic file\n",
    "dynamic_pb = CommonRoadDynamicFileReader(pb_dynamic_file_path, FileFormat.PROTOBUF).open()"
   ],
   "metadata": {
    "collapsed": false,
    "ExecuteTime": {
     "end_time": "2023-12-27T17:42:39.871980725Z",
     "start_time": "2023-12-27T17:42:39.699716424Z"
    }
   }
  },
  {
   "cell_type": "code",
   "execution_count": 3,
   "outputs": [],
   "source": [
    "from commonroad.common.file_reader import CommonRoadMapDynamicFileReader, CommonRoadReadAll\n",
    "\n",
    "\"\"\"\n",
    "Upon reading the individual protobuf files, we can combine them to get the desired CommonRoad classes.\n",
    "Pay attention to the order of the protobuf files inside the functions.\n",
    "\"\"\"\n",
    "\n",
    "#  Combining map and dynamic protobuf files into a CommonRoad scenario file\n",
    "scenario_cr = CommonRoadMapDynamicFileReader(pb_scenario_file_path)\n",
    "\n",
    "#  Combining map, dynamic and scenario protobuf files into a CommonRoad scenario file and a set of planning problems\n",
    "scenario, planning_problem_set, _ = CommonRoadReadAll(pb_scenario_file_path).open()"
   ],
   "metadata": {
    "collapsed": false,
    "ExecuteTime": {
     "end_time": "2023-12-27T17:42:40.012692931Z",
     "start_time": "2023-12-27T17:42:39.876459489Z"
    }
   }
  },
  {
   "cell_type": "code",
   "execution_count": 3,
   "outputs": [],
   "source": [],
   "metadata": {
    "collapsed": false,
    "ExecuteTime": {
     "end_time": "2023-12-27T17:42:40.058307549Z",
     "start_time": "2023-12-27T17:42:40.015793046Z"
    }
   }
  }
 ],
 "metadata": {
  "kernelspec": {
   "display_name": "Python 3",
   "language": "python",
   "name": "python3"
  },
  "language_info": {
   "codemirror_mode": {
    "name": "ipython",
    "version": 2
   },
   "file_extension": ".py",
   "mimetype": "text/x-python",
   "name": "python",
   "nbconvert_exporter": "python",
   "pygments_lexer": "ipython2",
   "version": "2.7.6"
  }
 },
 "nbformat": 4,
 "nbformat_minor": 0
}
