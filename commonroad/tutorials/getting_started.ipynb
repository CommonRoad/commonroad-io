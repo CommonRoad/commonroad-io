{
 "cells": [
  {
   "cell_type": "code",
   "execution_count": null,
   "metadata": {},
   "outputs": [],
   "source": [
    "%matplotlib inline\n",
    "import os\n",
    "import matplotlib.pyplot as plt\n",
    "\n",
    "from commonroad.common.file_reader import CommonRoadFileReader\n",
    "from commonroad.visualization.draw_dispatch_cr import draw_object\n",
    "\n",
    "file_path = 'USA_Lanker-1_1_T-1.xml'\n",
    "\n",
    "scenario, planning_problem_set = CommonRoadFileReader(file_path).open()\n",
    "\n",
    "plt.figure(figsize=(25, 10))\n",
    "draw_object(scenario)\n",
    "draw_object(planning_problem_set)\n",
    "plt.gca().set_aspect('equal')\n",
    "plt.show()\n"
   ]
  },
  {
   "cell_type": "code",
   "execution_count": null,
   "metadata": {},
   "outputs": [],
   "source": [
    "draw_parameters = {'time_begin': 10}\n",
    "\n",
    "plt.figure(figsize=(25, 10))\n",
    "draw_object(scenario, draw_params=draw_parameters)\n",
    "draw_object(planning_problem_set)\n",
    "plt.gca().set_aspect('equal')\n",
    "plt.show()"
   ]
  },
  {
   "cell_type": "code",
   "execution_count": null,
   "metadata": {},
   "outputs": [],
   "source": [
    "import numpy as np\n",
    "\n",
    "translation = np.array([0.0, 0.0])\n",
    "angle = np.pi/2\n",
    "\n",
    "scenario.translate_rotate(translation, angle)\n",
    "planning_problem_set.translate_rotate(translation, angle)\n",
    "\n",
    "plt.figure(figsize=(25, 10))\n",
    "draw_object(scenario)\n",
    "draw_object(planning_problem_set)\n",
    "plt.gca().set_aspect('equal')\n",
    "plt.show()"
   ]
  },
  {
   "cell_type": "code",
   "execution_count": null,
   "metadata": {},
   "outputs": [],
   "source": [
    "from commonroad.planning.goal import GoalRegion\n",
    "from commonroad.common.util import Interval, AngleInterval\n",
    "from commonroad.scenario.trajectory import State\n",
    "\n",
    "# define example goal region\n",
    "goal_state_1 = State(time_step=Interval(3, 5), orientation=AngleInterval(0.1, 1), velocity=Interval(20, 30.5))\n",
    "goal_state_2 = State(time_step=Interval(3, 6), orientation=AngleInterval(0.1, 1), velocity=Interval(15, 25.5))\n",
    "\n",
    "goal_region = GoalRegion([goal_state_1, goal_state_2])\n",
    "\n",
    "# state of the ego vehicle\n",
    "state = State(time_step=3, orientation=0.5, velocity=25)\n",
    "\n",
    "# check if the state is inside of the goal region\n",
    "goal_region.is_reached(state)"
   ]
  },
  {
   "cell_type": "code",
   "execution_count": null,
   "metadata": {},
   "outputs": [],
   "source": [
    "from commonroad.common.file_writer import CommonRoadFileWriter\n",
    "from commonroad.common.file_writer import OverwriteExistingFile\n",
    "\n",
    "fw = CommonRoadFileWriter(scenario, planning_problem_set, \"author\", \"affiliation\", \"source\", \"tags\")\n",
    "\n",
    "filename = \"filename.xml\"\n",
    "\n",
    "fw.write_to_file(filename, OverwriteExistingFile.ALWAYS)"
   ]
  },
  {
   "cell_type": "code",
   "execution_count": null,
   "metadata": {},
   "outputs": [],
   "source": [
    "import os\n",
    "\n",
    "from commonroad.common.solution_writer import CommonRoadSolutionWriter, VehicleModel, VehicleType, CostFunction\n",
    "from commonroad.scenario.trajectory import Trajectory, State\n",
    "\n",
    "# prepare trajectory\n",
    "pm_state_list = list()\n",
    "for i in range(10):\n",
    "    pm_state_list.append(State(**{'position': np.array([i, -i]), 'velocity': i*.2, 'velocity_y': i*0.001, 'time_step': i}))\n",
    "trajectory_pm = Trajectory(0, pm_state_list)\n",
    "\n",
    "# prepare control input vector (list of [x_acceleration, y_acceleration, time])\n",
    "pm_input_list = np.array([[1.0, 3.5, 0.0], [2.0, 2.5, 0.1], [3.0, 1.5, 0.2]])\n",
    "\n",
    "# write solution to a xml file\n",
    "csw = CommonRoadSolutionWriter(output_dir=os.getcwd(), scenario_id='test_scenario', step_size=0.1,\n",
    "                               vehicle_type=VehicleType.BMW_320i, vehicle_model=VehicleModel.PM,\n",
    "                               cost_function=CostFunction.SA1)\n",
    "# add trajectory solution\n",
    "csw.add_solution_trajectory(trajectory_pm, planning_problem_id=5)\n",
    "\n",
    "# or add control vector solution\n",
    "csw.add_solution_input_vector(pm_input_list, planning_problem_id=8)\n",
    "\n",
    "csw.write_to_file()"
   ]
  },
  {
   "cell_type": "code",
   "execution_count": null,
   "metadata": {},
   "outputs": [],
   "source": []
  }
 ],
 "metadata": {
  "kernelspec": {
   "display_name": "Python 3",
   "language": "python",
   "name": "python3"
  },
  "language_info": {
   "codemirror_mode": {
    "name": "ipython",
    "version": 3
   },
   "file_extension": ".py",
   "mimetype": "text/x-python",
   "name": "python",
   "nbconvert_exporter": "python",
   "pygments_lexer": "ipython3",
   "version": "3.6.6"
  }
 },
 "nbformat": 4,
 "nbformat_minor": 1
}
