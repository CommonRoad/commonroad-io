{
 "cells": [
  {
   "cell_type": "markdown",
   "metadata": {
    "collapsed": true
   },
   "source": [
    "# CommonRoad: Reading, Modifying, and Writing\n",
    "\n",
    "This tutorial shows how CommonRoad XML-files can be read, modified, visualized, and stored. CommonRoad XML-files consist of a Scenario and a PlanningProblemSet. A Scenario represents the environment including a LaneletNetwork and a set of DynamicObstacle and StaticObstacle. A LaneletNetwork is built from lane segments (Lanelet), that can be connected arbitrarily. A PlanningProblemSet contains one PlanningProblem for every ego vehicle in the Scenario, consisting of an initial position and a GoalRegion that has to be reached.\n",
    "\n",
    "## Reading\n",
    "\n",
    "The CommonRoadFileReader reads the Scenario and the PlanningProblemSet from a CommonRoad XML-file:"
   ]
  },
  {
   "cell_type": "code",
   "execution_count": null,
   "metadata": {},
   "outputs": [],
   "source": [
    "%matplotlib inline\n",
    "import os\n",
    "import matplotlib.pyplot as plt\n",
    "\n",
    "from commonroad.common.file_reader import CommonRoadFileReader\n",
    "from commonroad.visualization.draw_dispatch_cr import draw_object\n",
    "\n",
    "file_path = os.path.join(os.getcwd(), 'ZAM_Tutorial-1_1_T-1.xml')\n",
    "\n",
    "# read the scenario\n",
    "scenario, planning_problem_set = CommonRoadFileReader(file_path).open()\n",
    "\n",
    "# plot the scenario for each time step\n",
    "for i in range(0, 41):\n",
    "    plt.figure(figsize=(25, 10))\n",
    "    draw_object(scenario, draw_params={'time_begin': i})\n",
    "    draw_object(planning_problem_set)\n",
    "    plt.gca().set_aspect('equal')\n",
    "    plt.show()"
   ]
  },
  {
   "cell_type": "markdown",
   "metadata": {},
   "source": [
    "## Modifying\n",
    "\n",
    "It is possible to modify existing CommonRoad scenarios to customize them to one's need. First, we add a static obstacle to the scenario with the following specification:\n",
    "\n",
    "    - obstacle type: parked vehicle\n",
    "    - obstacle shape: rectangle with a width of 2.0m and a length of 4.5m\n",
    "    - initial state:\n",
    "        - position: (30, 3.5) m\n",
    "        - orientation: 0.02 rad\n",
    "\n",
    "Since every object in the scenario must have a unique ID, we can use the member function 'generate_object_id' of Scenario to generate a unique ID."
   ]
  },
  {
   "cell_type": "code",
   "execution_count": null,
   "metadata": {},
   "outputs": [],
   "source": [
    "import numpy as np\n",
    "\n",
    "from commonroad.geometry.shape import Rectangle\n",
    "from commonroad.scenario.obstacle import StaticObstacle, ObstacleType\n",
    "from commonroad.scenario.trajectory import State\n",
    "\n",
    "# generate the static obstacle according to the specification\n",
    "static_obstacle_id = scenario.generate_object_id()\n",
    "static_obstacle_type = ObstacleType.PARKED_VEHICLE\n",
    "static_obstacle_shape = Rectangle(width=2.0, length=4.5)\n",
    "static_obstacle_initial_state = State(position=np.array([30, 3.5]),\n",
    "                                      orientation=0.02, time_step=0)\n",
    "static_obstacle = StaticObstacle(static_obstacle_id, \n",
    "                                 static_obstacle_type,\n",
    "                                 static_obstacle_shape,\n",
    "                                 static_obstacle_initial_state)\n",
    "\n",
    "# add the static obstacle to the scenario\n",
    "scenario.add_objects(static_obstacle)\n",
    "\n",
    "# plot the scenario for each time step\n",
    "for i in range(0, 41):\n",
    "    plt.figure(figsize=(25, 10))\n",
    "    draw_object(scenario, draw_params={'time_begin': i})\n",
    "    draw_object(planning_problem_set)\n",
    "    plt.gca().set_aspect('equal')\n",
    "    plt.show()"
   ]
  },
  {
   "cell_type": "markdown",
   "metadata": {},
   "source": [
    "We can further add a dynamic obstacle:\n",
    "\n",
    "    - obstacle type: car\n",
    "    - obstacle shape: rectangle with a width of 1.8m and a length of 4.3m\n",
    "    - initial state:\n",
    "        - position: (50, 0.0) m\n",
    "        - orientation: 0.00 rad\n",
    "        - velocity: 22 m/s\n",
    "        \n",
    "We assume that the dynamic obstacle drives with constant velocity."
   ]
  },
  {
   "cell_type": "code",
   "execution_count": null,
   "metadata": {
    "scrolled": false
   },
   "outputs": [],
   "source": [
    "from commonroad.scenario.obstacle import DynamicObstacle\n",
    "from commonroad.scenario.trajectory import Trajectory\n",
    "from commonroad.prediction.prediction import TrajectoryPrediction\n",
    "\n",
    "# generate the states of the obstacle for time steps 0 to 40 by assuming constant velocity\n",
    "# initial state at time step 0\n",
    "dynamic_obstacle_initial_state = State(position=np.array([50.0, 0.0]),\n",
    "                                      orientation=0.0,\n",
    "                                      velocity=22.0,\n",
    "                                      time_step=0)\n",
    "\n",
    "# compute states for time steps 1 to 40\n",
    "state_list = [dynamic_obstacle_initial_state]\n",
    "for i in range(1, 41):\n",
    "    # compute new position\n",
    "    new_position = np.array([dynamic_obstacle_initial_state.position[0] + \n",
    "            i*scenario.dt*dynamic_obstacle_initial_state.velocity, 0.0])\n",
    "    # add new state to state_list\n",
    "    state_list.append(State(position=new_position,\n",
    "                            velocity=22.0,\n",
    "                            time_step=i,\n",
    "                            orientation=0.0))\n",
    "# create the predicted trajectory starting at time step 1\n",
    "dynamic_obstacle_trajectory = Trajectory(state_list=state_list[1:],\n",
    "                                         initial_time_step=1)\n",
    "# create the prediction using the predicted trajectory and the shape of the obstacle\n",
    "dynamic_obstacle_shape = Rectangle(length=4.3, width=1.8)\n",
    "dynamic_obstacle_prediction = TrajectoryPrediction(dynamic_obstacle_trajectory,\n",
    "                                                   dynamic_obstacle_shape)\n",
    "\n",
    "# generate the dynamic obstacle according to the specification\n",
    "dynamic_obstacle_id = scenario.generate_object_id()\n",
    "dynamic_obstacle_type = ObstacleType.CAR\n",
    "dynamic_obstacle = DynamicObstacle(dynamic_obstacle_id,\n",
    "                                   dynamic_obstacle_type,\n",
    "                                   dynamic_obstacle_shape,\n",
    "                                   dynamic_obstacle_initial_state,\n",
    "                                   dynamic_obstacle_prediction)\n",
    "\n",
    "# add static obstacle to the scenario\n",
    "scenario.add_objects(dynamic_obstacle)\n",
    "\n",
    "# plot the scenario for each time step\n",
    "for i in range(0, 41):\n",
    "    plt.figure(figsize=(25, 10))\n",
    "    draw_object(scenario, draw_params={'time_begin': i})\n",
    "    draw_object(planning_problem_set)\n",
    "    plt.gca().set_aspect('equal')\n",
    "    plt.show()"
   ]
  },
  {
   "cell_type": "markdown",
   "metadata": {},
   "source": [
    "## Writing\n",
    "\n",
    "The CommonRoadFileWriter writes a Scenario and a PlanningProblemSet to a CommonRoad XML-file:"
   ]
  },
  {
   "cell_type": "code",
   "execution_count": null,
   "metadata": {},
   "outputs": [],
   "source": [
    "from commonroad.common.file_writer import CommonRoadFileWriter\n",
    "from commonroad.common.file_writer import OverwriteExistingFile\n",
    "\n",
    "author = 'Max Mustermann'\n",
    "affiliation = 'Technical University of Munich, Germany'\n",
    "source = ''\n",
    "tags = 'highway multi_lane no_oncoming_traffic parallel_lanes comfort'\n",
    "filename = 'ZAM_Tutorial-1_2_T-1.xml'\n",
    "\n",
    "# write new scenario\n",
    "scenario.benchmark_id = 'ZAM_Tutorial-1_2_T-1'\n",
    "fw = CommonRoadFileWriter(scenario, planning_problem_set, author, \n",
    "                          affiliation, source, tags)\n",
    "\n",
    "fw.write_to_file(filename, OverwriteExistingFile.ALWAYS)"
   ]
  },
  {
   "cell_type": "markdown",
   "metadata": {},
   "source": [
    "We can open our stored file again to check if everything is correct:"
   ]
  },
  {
   "cell_type": "code",
   "execution_count": null,
   "metadata": {},
   "outputs": [],
   "source": [
    "file_path = os.path.join(os.getcwd(), 'ZAM_Tutorial-1_2_T-1.xml')\n",
    "\n",
    "scenario, planning_problem_set = CommonRoadFileReader(file_path).open()\n",
    "\n",
    "# plot the scenario for each time step\n",
    "for i in range(0, 41):\n",
    "    plt.figure(figsize=(25, 10))\n",
    "    draw_object(scenario, draw_params={'time_begin': i})\n",
    "    draw_object(planning_problem_set)\n",
    "    plt.gca().set_aspect('equal')\n",
    "    plt.show()"
   ]
  }
 ],
 "metadata": {
  "kernelspec": {
   "display_name": "Python 3",
   "language": "python",
   "name": "python3"
  },
  "language_info": {
   "codemirror_mode": {
    "name": "ipython",
    "version": 3
   },
   "file_extension": ".py",
   "mimetype": "text/x-python",
   "name": "python",
   "nbconvert_exporter": "python",
   "pygments_lexer": "ipython3",
   "version": "3.6.0"
  }
 },
 "nbformat": 4,
 "nbformat_minor": 1
}
